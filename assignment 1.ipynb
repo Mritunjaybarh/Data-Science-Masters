{
 "cells": [
  {
   "cell_type": "markdown",
   "id": "6a51275b",
   "metadata": {},
   "source": [
    "                                     Assignment 1\n",
    "                                     "
   ]
  },
  {
   "cell_type": "code",
   "execution_count": null,
   "id": "9ff1eedf",
   "metadata": {},
   "outputs": [],
   "source": [
    "1.Guido van Rossum"
   ]
  },
  {
   "cell_type": "code",
   "execution_count": null,
   "id": "e170ecf5",
   "metadata": {},
   "outputs": [],
   "source": [
    "2. imperative, functional, procedural, and oops."
   ]
  },
  {
   "cell_type": "code",
   "execution_count": null,
   "id": "ca5ffcea",
   "metadata": {},
   "outputs": [],
   "source": [
    "3. yes"
   ]
  },
  {
   "cell_type": "code",
   "execution_count": null,
   "id": "8417f77f",
   "metadata": {},
   "outputs": [],
   "source": [
    "4. .py"
   ]
  },
  {
   "cell_type": "code",
   "execution_count": null,
   "id": "3bb1deca",
   "metadata": {},
   "outputs": [],
   "source": [
    "5.intepreted language"
   ]
  },
  {
   "cell_type": "markdown",
   "id": "a032db22",
   "metadata": {},
   "source": [
    "6.a=10"
   ]
  },
  {
   "cell_type": "code",
   "execution_count": 5,
   "id": "1fb8cc38",
   "metadata": {},
   "outputs": [
    {
     "name": "stdout",
     "output_type": "stream",
     "text": [
      "10\n"
     ]
    }
   ],
   "source": [
    "a=10\n",
    "print(a)"
   ]
  },
  {
   "cell_type": "code",
   "execution_count": null,
   "id": "4336dfec",
   "metadata": {},
   "outputs": [],
   "source": [
    "7.#"
   ]
  },
  {
   "cell_type": "code",
   "execution_count": null,
   "id": "f00ed7ab",
   "metadata": {},
   "outputs": [],
   "source": [
    "8.sys.version"
   ]
  },
  {
   "cell_type": "code",
   "execution_count": null,
   "id": "2066504d",
   "metadata": {},
   "outputs": [],
   "source": [
    "9.lamda"
   ]
  },
  {
   "cell_type": "code",
   "execution_count": 7,
   "id": "a1e43ac1",
   "metadata": {},
   "outputs": [
    {
     "ename": "SyntaxError",
     "evalue": "invalid syntax (1639108509.py, line 1)",
     "output_type": "error",
     "traceback": [
      "\u001b[1;36m  File \u001b[1;32m\"C:\\Users\\mritu\\AppData\\Local\\Temp\\ipykernel_31016\\1639108509.py\"\u001b[1;36m, line \u001b[1;32m1\u001b[0m\n\u001b[1;33m    10.preferred installer programing\u001b[0m\n\u001b[1;37m       ^\u001b[0m\n\u001b[1;31mSyntaxError\u001b[0m\u001b[1;31m:\u001b[0m invalid syntax\n"
     ]
    }
   ],
   "source": [
    "10.preferred installer programing"
   ]
  },
  {
   "cell_type": "code",
   "execution_count": null,
   "id": "2a07eb17",
   "metadata": {},
   "outputs": [],
   "source": [
    "11.chr(),dict(),float(),int(),help() etc"
   ]
  },
  {
   "cell_type": "code",
   "execution_count": null,
   "id": "765ab9f3",
   "metadata": {},
   "outputs": [],
   "source": [
    "12. 79"
   ]
  },
  {
   "cell_type": "code",
   "execution_count": null,
   "id": "3c33e7f2",
   "metadata": {},
   "outputs": [],
   "source": [
    "13. Data science.\n",
    "Scientific and mathematical computing.\n",
    "Web development.\n",
    "Finance and trading.\n",
    "System automation and administration.\n",
    "Computer graphics.\n",
    "Basic game development."
   ]
  },
  {
   "cell_type": "code",
   "execution_count": null,
   "id": "2bb87cfb",
   "metadata": {},
   "outputs": [],
   "source": [
    "14.  The management of this private heap is ensured internally by the Python memory manager."
   ]
  },
  {
   "cell_type": "code",
   "execution_count": null,
   "id": "3b6c8b36",
   "metadata": {},
   "outputs": [],
   "source": [
    "15.15.n the section entitled User Variables, double-click on the entry that says Path. Another window will pop up showing a list of paths. Click the New button and paste the path to your Python executable there. Once that's inserted, select your newly added path and click the Move Up button until it's at the top"
   ]
  },
  {
   "cell_type": "code",
   "execution_count": null,
   "id": "a19bc03d",
   "metadata": {},
   "outputs": [],
   "source": [
    "16.Yes it is  mandatory"
   ]
  },
  {
   "cell_type": "code",
   "execution_count": null,
   "id": "9d5758f8",
   "metadata": {},
   "outputs": [],
   "source": []
  },
  {
   "cell_type": "code",
   "execution_count": null,
   "id": "be44926d",
   "metadata": {},
   "outputs": [],
   "source": []
  }
 ],
 "metadata": {
  "kernelspec": {
   "display_name": "Python 3 (ipykernel)",
   "language": "python",
   "name": "python3"
  },
  "language_info": {
   "codemirror_mode": {
    "name": "ipython",
    "version": 3
   },
   "file_extension": ".py",
   "mimetype": "text/x-python",
   "name": "python",
   "nbconvert_exporter": "python",
   "pygments_lexer": "ipython3",
   "version": "3.9.13"
  }
 },
 "nbformat": 4,
 "nbformat_minor": 5
}
